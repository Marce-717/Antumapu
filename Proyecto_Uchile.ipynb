{
 "cells": [
  {
   "cell_type": "code",
   "execution_count": 42,
   "id": "8ce25b84-5280-4c78-a87c-e06e8b881170",
   "metadata": {},
   "outputs": [],
   "source": [
    "import pandas as pd\n",
    "import numpy as np\n",
    "from numpy import random\n",
    "import matplotlib.pyplot as plt\n",
    "import seaborn as sns"
   ]
  },
  {
   "cell_type": "markdown",
   "id": "cc696c07-e438-42e8-80c6-1cb4e8ad9d72",
   "metadata": {},
   "source": [
    "## Introducción\n",
    "\n",
    "El curso entrega los conocimientos necesarios para que el alumno utilice \n",
    "herramientas modernas y realice el adecuado análisis de un conjunto de datos \r\n",
    "cualquiera sea su origen y contenidos. Este curso es inherentemente práctico  \r\n",
    "aplicado a diferentes escenarios de negocio que permitirán que el alumno ample \r\n",
    "su nivel de abstracción y análisis para diferentes tipos de problemas. Al termina el \r\n",
    "curso, el alumno será capaz de pror lenguajegPy P 3ython, analizar datos, aplcar \r\n",
    "algoritmos de minería de datos y procesos para resolver diferentes proble s de \r\n",
    "unazación. orgóni\n",
    "\n",
    "## Metodología\n",
    "\n",
    "El curso es teórico-práctico y consiste de sesiones en que se exponen los contendos y \r\n",
    "luego se llevan a la práctica con ejercicios en clases y \n",
    "\n",
    "tareas. El alumno prende \r\n",
    "haciendo, practicando y ejercitando. Para sacar el mayor provecho al  rso, el \r\n",
    "alumno debe invertir varias horas de autoestudio y trabajo en grupozación."
   ]
  },
  {
   "cell_type": "markdown",
   "id": "f6f23bf7-4ebc-4199-aef4-824f79a7975c",
   "metadata": {},
   "source": [
    "**Motivación:** Entregar mi experiencia y aprendizaje de manera utilitarista como una forma de contribuir al ecosistema de información entre profesionales del área agrícola y comunidades de información de datos. "
   ]
  },
  {
   "attachments": {},
   "cell_type": "markdown",
   "id": "16061a2a-72ad-442f-ad03-030bd80887c8",
   "metadata": {},
   "source": [
    "**¿Qué vamos hacer durante el curso?**\r\n",
    "\r\n",
    "Incorporar herramientas computacionales de análisis y manipulación de datos para la aplicación en el mundo de las CienciaAgropecuariase\n",
    "\n",
    "**¿Por qué?** \r\n",
    "\r\n",
    "El aprendizaje de estas herramientas facilita y potencia la capacidad de responder preguntas clásicas del campo de nuestras ciencias de forma efectiva y enriquecedora. \r\n",
    "\r\n",
    "\r\n"
   ]
  },
  {
   "cell_type": "markdown",
   "id": "45bd729d-1974-4205-8e24-16ad397c28c4",
   "metadata": {},
   "source": [
    "**¿Qué vamos aprender concretamente?**\n",
    "\n",
    "El aprendizaje de un lenguaje de programación como Python y su certera aplicación en el mundo de los datos para nutrir nuestros habilidades como profesionales. Herramientas de visualización, manipulación y trabajo con datos para fortalecer y nutrir nuestras habilidades analíticas.\\\n",
    "Herramientas de análisis estadístico dentro del mundo Python para aplicar prácticamente."
   ]
  },
  {
   "attachments": {},
   "cell_type": "markdown",
   "id": "c9f0b750-c34e-4a5f-88c7-eff6f8428463",
   "metadata": {},
   "source": [
    "**Dos dimensiones del conocimiento**\r\n",
    "\r",
    "*\r\n",
    "Programicoát* → durante las primeras clases nos vamos a enfocar en el aprendizaje de una sintaxis dura, abstracta y alejada para el tipo de conocimiento con el cual solemos lidia\n",
    "\n",
    ".*\r\n",
    "\r\n",
    "Analíticoicado apAplicar el conociAómo aplicar las capas de conocimiento adquirido de forma analítica según nuestros fins. \r\n"
   ]
  },
  {
   "attachments": {},
   "cell_type": "markdown",
   "id": "1979567a-ebe9-4a98-a606-a1e77c87092e",
   "metadata": {},
   "source": [
    "**¿Qué buscamos?**\n",
    "\n",
    "El camino de aprendizaje busca formar una base de entendimiento sólida en la aplicación y utilización de un lenguaje de programación que permita al estudiante una implementación intuitiva y no mecánica.\n",
    "\n",
    "Cimenta un conocimiento del lenguaje que le permita transitar cómodamente el mundo de los datos y algoritmos en las distintas áreas de desarrollo. Durante las primeras clases vamos a formar las condiciones necesarias para que puedan escribir, leer y entender código.\r\n"
   ]
  },
  {
   "cell_type": "markdown",
   "id": "622f1690-1f2f-4918-be55-30a3017d6c61",
   "metadata": {},
   "source": [
    "## Objetivo\n",
    "Entregar herramientas de gestión de datos atraves de código libre (Phyton) que permite mejorar la capacidad de análisis en distintas áreas de trabajo incrementando la productividad en la era digital. "
   ]
  },
  {
   "cell_type": "markdown",
   "id": "d386112f-cf8e-49c8-b082-f9207b06e2f3",
   "metadata": {},
   "source": [
    "## Habilidades al final del curso\n",
    "El alumno deberá conocer y entender las principales tipos de código para desarrollar tareas de planteamiento, medión y análisis de datos.\n",
    "\n",
    "\n",
    "\n"
   ]
  },
  {
   "cell_type": "markdown",
   "id": "05fefa41-0d12-4359-847b-e0c7768b4f3a",
   "metadata": {},
   "source": [
    "## Recursos utilizados \n",
    "\n",
    "1) Computador\n",
    "2) Cuenta de correo electrónico para abrir ususarios en plataforma de desarrollo Anaconda.org, Replit, Github, SQLprostgres. Corresponde e cuentas de usuario necessaria para trabajar distintos entornos de la comunidad de desarrolladores."
   ]
  },
  {
   "cell_type": "markdown",
   "id": "36ee16ae-ce8a-4236-8afd-0cae1cddc433",
   "metadata": {},
   "source": [
    "## Plan de desarrollo a mediano y largo plazo\n",
    "\n",
    "Crear un ecosistema dentro de la facultad que sirva de apoyo a la carrera y que sea agnostico a los departamentos de especialización para que participe en desarrollo integral con  nuevas herramienstas de gestión de datos. "
   ]
  },
  {
   "cell_type": "code",
   "execution_count": null,
   "id": "9578dcda-c40c-4bcd-8d34-e2d64eabc1dd",
   "metadata": {},
   "outputs": [],
   "source": []
  },
  {
   "cell_type": "code",
   "execution_count": null,
   "id": "49d7766a-7503-48e0-b7aa-5cc93ce7e9a5",
   "metadata": {},
   "outputs": [],
   "source": []
  }
 ],
 "metadata": {
  "kernelspec": {
   "display_name": "Python 3 (ipykernel)",
   "language": "python",
   "name": "python3"
  },
  "language_info": {
   "codemirror_mode": {
    "name": "ipython",
    "version": 3
   },
   "file_extension": ".py",
   "mimetype": "text/x-python",
   "name": "python",
   "nbconvert_exporter": "python",
   "pygments_lexer": "ipython3",
   "version": "3.8.19"
  }
 },
 "nbformat": 4,
 "nbformat_minor": 5
}
